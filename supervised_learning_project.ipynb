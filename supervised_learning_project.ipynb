{
 "cells": [
  {
   "cell_type": "markdown",
   "id": "af9e724b-8379-4425-85c8-00f748b078d4",
   "metadata": {},
   "source": [
    "#### This is a supervised learning exercise for CU Boulder master's program in Data Science"
   ]
  },
  {
   "cell_type": "markdown",
   "id": "33a45445",
   "metadata": {},
   "source": [
    "## 0 Modules "
   ]
  },
  {
   "cell_type": "code",
   "execution_count": 183,
   "id": "847f3c16",
   "metadata": {},
   "outputs": [],
   "source": [
    "# Import Variables\n",
    "\n",
    "import os\n",
    "import matplotlib\n",
    "from sklearn.model_selection import train_test_split\n",
    "from sklearn.metrics import accuracy_score, precision_score, recall_score\n",
    "import numpy as np\n",
    "import matplotlib.pyplot as plt\n",
    "import pandas as pd\n",
    "from sklearn.model_selection import train_test_split, KFold\n",
    "from sklearn.preprocessing import StandardScaler\n",
    "from sklearn.svm import SVC\n",
    "from sklearn.ensemble import VotingClassifier, RandomForestClassifier\n",
    "from sklearn.naive_bayes import GaussianNB\n",
    "from sklearn.linear_model import LogisticRegression\n",
    "from sklearn.ensemble import GradientBoostingClassifier\n",
    "from sklearn.neighbors import KNeighborsClassifier\n",
    "from xgboost import XGBClassifier\n",
    "from sklearn.model_selection import StratifiedKFold\n",
    "import random\n",
    "import openpyxl\n",
    "from sklearn.model_selection import learning_curve\n",
    "from sklearn.metrics import roc_curve, auc\n"
   ]
  },
  {
   "cell_type": "markdown",
   "id": "a06ec396",
   "metadata": {},
   "source": [
    "## 1.0 Introduction"
   ]
  },
  {
   "cell_type": "markdown",
   "id": "19192b66-9912-4cae-8b22-3cfecc173967",
   "metadata": {},
   "source": [
    "- **Project Topic** - This project attempts to predict customer churn for a streaming service provider.\n",
    "- **Project Goal** - The goal is to predict which customers are about to churn (about to cancel their subscription) so that the service provider can intervene to prevent churn (i.e. offer a promotion or discount). This is a common problem for companies to prevent customer churn. \n",
    "- **Table of Contents**  \n",
    "  2. data\n",
    "  3. data cleaning\n",
    "  4. exploratory data analysis (EDA)\n",
    "  5. feature engineering\n",
    "  6. models\n",
    "  7. results & analysis\n",
    "  8. discussion & conclusion\n",
    "- **Model** - I test various models and end up using a **random forest model**. See more in \"models\" section.\n",
    "- **Task** - This problem is a binary classifier in which positive (1) is churn and (2) is not churn. See more in \"models\" section"
   ]
  },
  {
   "cell_type": "markdown",
   "id": "02530a89-b9f7-4447-b3c3-07ab865d43b0",
   "metadata": {},
   "source": [
    "## 2.0 Data"
   ]
  },
  {
   "cell_type": "markdown",
   "id": "294a96f3-7cc4-41a6-bff6-34905891027c",
   "metadata": {},
   "source": [
    "#### 2.1 Data Source\n",
    "- The data is from an undisclosed streaming service provider\n",
    "- The data is propriety data and cannot be disclosed publicly"
   ]
  },
  {
   "cell_type": "markdown",
   "id": "f63e817c-d5d0-489d-a32a-43824997fda6",
   "metadata": {},
   "source": [
    "#### 2.2 Data Structure\n",
    "- The data is from May 2023 to August 2023\n",
    "- The data exists at 2 levels: accounts & streaming sessions"
   ]
  },
  {
   "cell_type": "markdown",
   "id": "5ef209a0-d1ff-4efb-9e77-df9116290b4a",
   "metadata": {},
   "source": [
    "#### 2.3 Loading the Data & Schema"
   ]
  },
  {
   "cell_type": "code",
   "execution_count": 184,
   "id": "364f754d-e681-462a-a720-f78601c17ebb",
   "metadata": {},
   "outputs": [],
   "source": [
    "# Open \"accounts.csv\" and \"streams.csv\" into DataFrames\n",
    "accounts_df = pd.read_csv('user_accounts.csv')\n",
    "streams_df = pd.read_csv(\"user_streams.csv\")"
   ]
  },
  {
   "cell_type": "markdown",
   "id": "db911627-3256-4d3d-9599-06723f20043b",
   "metadata": {},
   "source": [
    "#### 2.4 Viewing Schema"
   ]
  },
  {
   "cell_type": "code",
   "execution_count": 185,
   "id": "c34d56e1-3f4e-4ad8-8243-9c2e59d701d5",
   "metadata": {},
   "outputs": [
    {
     "name": "stdout",
     "output_type": "stream",
     "text": [
      "          account_number  price  churned\n",
      "496  e078af3026edb42c...  30.56        1\n",
      "477  5a39cadd1b007093...  12.62        0\n",
      "971  683d098205b11550...  35.19        0\n",
      "195  09895de0407bcb03...  30.56        1\n",
      "649  826e27285307a923...  36.90        1\n",
      "499  7104741a92e73eb6...  25.16        1\n",
      "642  9be3da431e0a833d...  32.05        1\n",
      "696  d40fbd13d527595c...  10.83        0\n",
      "304  9400f1b21cb527d7...  26.58        0\n",
      "212  39bb88f40d3aa2b2...  21.40        0\n",
      "\n",
      "\n",
      "             account_number      start_timestamp        end_timestamp  \\\n",
      "95221   477f4b2cdd3fe2b9...  2023-05-10 00:26...  2023-05-10 00:26...   \n",
      "226892  bc57590a33fe355e...  2023-06-08 21:14...  2023-06-08 21:19...   \n",
      "88054   3963317a2b410e53...  2023-05-01 02:14...  2023-05-01 02:21...   \n",
      "237118  1de4842b42fa3db3...  2023-07-30 02:12...  2023-07-30 02:13...   \n",
      "14304   afa472a961fbcb09...  2023-05-26 10:37...  2023-05-26 10:39...   \n",
      "144582  ee62de25ccc2b55d...  2023-05-31 08:52...  2023-05-31 08:52...   \n",
      "28110   09eac95eb995b821...  2023-06-26 12:27...  2023-06-26 12:28...   \n",
      "86238   8b5551ea922dd246...  2023-05-02 02:21...  2023-05-02 02:23...   \n",
      "242154  062f50753b9095ee...  2023-07-21 03:58...  2023-07-21 03:58...   \n",
      "280786  556d7dc3a1153563...  2023-06-16 19:29...  2023-06-16 19:54...   \n",
      "\n",
      "        mean_opinion_score_value  \n",
      "95221              4.531915       \n",
      "226892             4.531915       \n",
      "88054              4.595745       \n",
      "237118             4.489362       \n",
      "14304              4.489362       \n",
      "144582             4.063830       \n",
      "28110              0.000000       \n",
      "86238              4.531915       \n",
      "242154                  NaN       \n",
      "280786             3.340426       \n"
     ]
    }
   ],
   "source": [
    "# Display the resulting DataFrames\n",
    "pd.set_option('display.max_colwidth', 20)\n",
    "print(accounts_df.sample(10))\n",
    "print(\"\\n\")\n",
    "print(streams_df.sample(10))"
   ]
  },
  {
   "cell_type": "markdown",
   "id": "31a0b751-082c-4647-a7e8-ba46d3cfb7cf",
   "metadata": {},
   "source": [
    "#### 2.5 Data Records"
   ]
  },
  {
   "cell_type": "code",
   "execution_count": 186,
   "id": "39a8118b-7c8a-436d-a9d4-5ebde28a04f4",
   "metadata": {},
   "outputs": [
    {
     "name": "stdout",
     "output_type": "stream",
     "text": [
      "records in streams_df: 325300\n",
      "records in accounts_df: 1000\n"
     ]
    }
   ],
   "source": [
    "# Total Records\n",
    "print(\n",
    "    f\"records in streams_df: {len(streams_df)}\", \n",
    "    f\"records in accounts_df: {len(accounts_df)}\",\n",
    "    sep = \"\\n\"\n",
    "    )"
   ]
  },
  {
   "cell_type": "markdown",
   "id": "0bcbc564-9f14-4ba2-b145-723fadeb328e",
   "metadata": {},
   "source": [
    "#### 2.6 Features & Descriptions\n",
    "- There are 5 features existing across 2 tables ```streams``` & ```accounts```:\n",
    "  - ```account_number``` - Unique Identifier for Customer\n",
    "  - ```mean_opinion_score_value``` - A measure of stream quality from 0 to 5\n",
    "  - ```start_timestamp``` - Start timestamp of streaming session\n",
    "  - ```end_timestamp``` - End timestamp of streaming session\n",
    "  - ```price``` - Monthly Subscription Price\n",
    "  - ```churned``` - Dummy Variable if Customer Churned\n"
   ]
  },
  {
   "cell_type": "markdown",
   "id": "34d4c6f9-65b5-4141-87bd-629b15febf06",
   "metadata": {},
   "source": [
    "## 3 Data Cleaning"
   ]
  },
  {
   "cell_type": "markdown",
   "id": "b2dcea65-a4b8-4b31-99ee-996573edc911",
   "metadata": {},
   "source": [
    "#### 3.1 Summary\n",
    "- **Why Cleaning** - we take following steps below\n",
    "  - Converting Datatypes: We convert our timestamps from string to ```pd.datetime``` so we can build features on this. This is necessary for the feature extraction phase.\n",
    "  - Removing Duplicates: A very small number of rows were duplicates (<30). We remove them. This could skew the data.\n",
    "  - Missing Window in Timestamps: There is missing data across 20% of days. We note this.\n",
    "  - Drop Users - We drop users in which 20% of their start timestamp is missing. This is only 2% of records. It is better to drop these than impute values b/c it is small percentage and it is unclear what the underlying NAs really mean.\n",
    "  - Join Quality - We notice that we only have session data on ~50% of users listed in accounts table. It is unclear if the data is bad or users never had a session.\n",
    "  - Outliers - We remove outliers of session duration (i.e. > 1 day session length). This was only a dozen or so records. These outliers could make our model not perform well.\n",
    "  - Bad Data - We remove a record with negative session time. A negative time is not possible and is an outlier that could affect results of our model\n",
    "- **Conclusions**\n",
    "  - Quality of Data - There is issues (noted above with the data). The data quality does not appear to be the greatest and there are open questions on how to interpret the data. Nonetheless after cleaning the data it is suitable for prediction.\n",
    "  - Cleaning of data - We take many steps (noted above) to lean the data. This data is now ready for models as we removed major outliers and NAs. \n",
    "- **Visualization** - I have produced various visualizations, namely a histogram of NAs and a linechart of missing timestamps (see charts in section. Furthermore there are many histograms in EDA section which relate to ensuring data is quality."
   ]
  },
  {
   "cell_type": "markdown",
   "id": "179ef530-56fb-432c-aeb5-3da2a48432d9",
   "metadata": {},
   "source": [
    "#### 3.2 View Columns"
   ]
  },
  {
   "cell_type": "code",
   "execution_count": 187,
   "id": "9a4d66a9",
   "metadata": {},
   "outputs": [
    {
     "name": "stdout",
     "output_type": "stream",
     "text": [
      "streams_df\n",
      "account_number\n",
      "start_timestamp\n",
      "end_timestamp\n",
      "mean_opinion_score_value\n",
      "\n",
      "accounts_df\n",
      "account_number\n",
      "price\n",
      "churned\n"
     ]
    }
   ],
   "source": [
    "print(\"streams_df\", *streams_df.columns, sep=\"\\n\")\n",
    "print(\"\")\n",
    "print(\"accounts_df\", *accounts_df.columns, sep = \"\\n\")"
   ]
  },
  {
   "cell_type": "markdown",
   "id": "e1f130c7-7987-41c8-86fe-021d798e95f7",
   "metadata": {},
   "source": [
    "#### 3.3 Convert string to Timestamp"
   ]
  },
  {
   "cell_type": "code",
   "execution_count": 188,
   "id": "3330f9bb-66f0-4e9a-b510-3d7b4414ef41",
   "metadata": {},
   "outputs": [],
   "source": [
    "streams_df['start_timestamp'] = pd.to_datetime(streams_df['start_timestamp'])\n",
    "streams_df['end_timestamp'] = pd.to_datetime(streams_df['end_timestamp'])"
   ]
  },
  {
   "cell_type": "markdown",
   "id": "084e4d48-6fad-439a-936b-287150b8f47e",
   "metadata": {},
   "source": [
    "#### 3.4 Missing Values"
   ]
  },
  {
   "cell_type": "code",
   "execution_count": 189,
   "id": "11dc7b41",
   "metadata": {},
   "outputs": [
    {
     "name": "stdout",
     "output_type": "stream",
     "text": [
      "0 - All NA rows\n",
      "16829 - Any NA rows\n",
      "24 - Duplicate rows\n"
     ]
    }
   ],
   "source": [
    "def count_print_summary(df):\n",
    "    # Count rows that are all NA\n",
    "    count_all_na = df.isnull().all(axis=1).sum()\n",
    "    print(f\"{count_all_na} - All NA rows\")\n",
    "\n",
    "    # Count rows with any NA\n",
    "    count_any_na = df.isnull().any(axis=1).sum()\n",
    "    print(f\"{count_any_na} - Any NA rows\")\n",
    "\n",
    "    # Count duplicate rows\n",
    "    count_duplicates = df.duplicated().sum()\n",
    "    print(f\"{count_duplicates} - Duplicate rows\")\n",
    "\n",
    "# Example usage\n",
    "count_print_summary(streams_df)\n"
   ]
  },
  {
   "cell_type": "markdown",
   "id": "eef088b7-38fc-4d5c-b9ad-426a9fddc844",
   "metadata": {},
   "source": [
    "#### 3.5 Column by Column NAs"
   ]
  },
  {
   "cell_type": "code",
   "execution_count": 190,
   "id": "b12ae339-07fa-408b-9769-04924a9b122c",
   "metadata": {},
   "outputs": [
    {
     "name": "stdout",
     "output_type": "stream",
     "text": [
      "account_number                      object\n",
      "start_timestamp             datetime64[ns]\n",
      "end_timestamp               datetime64[ns]\n",
      "mean_opinion_score_value           float64\n",
      "dtype: object\n",
      "\n",
      "account_number                  0\n",
      "start_timestamp              6044\n",
      "end_timestamp                   0\n",
      "mean_opinion_score_value    16676\n",
      "dtype: int64\n",
      "\n",
      "account_number     object\n",
      "price             float64\n",
      "churned             int64\n",
      "dtype: object\n",
      "\n",
      "account_number    0\n",
      "price             0\n",
      "churned           0\n",
      "dtype: int64\n"
     ]
    }
   ],
   "source": [
    "# Inspect NAs\n",
    "\n",
    "print(\n",
    "    streams_df.dtypes,\n",
    "    streams_df.isnull().sum(), \n",
    "    accounts_df.dtypes,\n",
    "    accounts_df.isnull().sum(), sep = \"\\n\\n\"\n",
    ")\n",
    "\n",
    "# Insight - NAs for start_timestamp & mos_score. Otherwise data & dtypes good."
   ]
  },
  {
   "cell_type": "markdown",
   "id": "d228846f-53c0-49ba-80a1-791376b09e15",
   "metadata": {},
   "source": [
    "#### 3.6 Confirm Data Duration"
   ]
  },
  {
   "cell_type": "code",
   "execution_count": 191,
   "id": "74e15e60",
   "metadata": {},
   "outputs": [
    {
     "name": "stdout",
     "output_type": "stream",
     "text": [
      "116 days of data\n",
      "from:  2023-04-29\n",
      "to:    2023-08-23\n"
     ]
    }
   ],
   "source": [
    "print(\n",
    "    f\"{round((streams_df.start_timestamp.max() - streams_df.start_timestamp.min()).total_seconds()/60/60/24)} days of data\",\n",
    "    f\"from:  {streams_df.start_timestamp.min().date()}\",\n",
    "    f\"to:    {streams_df.start_timestamp.max().date()}\",\n",
    "    sep = \"\\n\"\n",
    "    )"
   ]
  },
  {
   "cell_type": "markdown",
   "id": "a5bc9d5d-4c06-4d57-b146-cb924abd6e4e",
   "metadata": {},
   "source": [
    "#### 3.7 Visualize Missing Data"
   ]
  },
  {
   "cell_type": "code",
   "execution_count": 192,
   "id": "24f432e3-a93b-4bcb-a999-6643f525e181",
   "metadata": {},
   "outputs": [
    {
     "data": {
      "image/png": "[encoded data removed]",
      "text/plain": [
       "<Figure size 1000x70 with 1 Axes>"
      ]
     },
     "metadata": {},
     "output_type": "display_data"
    },
    {
     "data": {
      "text/plain": [
       "('min_date is: 2023-04-29', 'max_date is: 2023-09-17')"
      ]
     },
     "execution_count": 192,
     "metadata": {},
     "output_type": "execute_result"
    }
   ],
   "source": [
    "import matplotlib.pyplot as plt\n",
    "import matplotlib.dates as mdates\n",
    "\n",
    "def get_missing_dates(df: pd.DataFrame, column_name: str) -> tuple[str, str]:\n",
    "\n",
    "    # Get the range of dates\n",
    "    min_date = df[column_name].min().date()\n",
    "    max_date = df[column_name].max().date()\n",
    "\n",
    "    # Generate the date range\n",
    "    date_range = pd.date_range(start=min_date, end=max_date, freq='D')\n",
    "\n",
    "    # Filter the DataFrame for the dates in the range\n",
    "    filtered_df = df[df[column_name].dt.date.isin(date_range.date)]\n",
    "\n",
    "    # Identify missing dates\n",
    "    missing_dates = set(date_range.date) - set(filtered_df[column_name].dt.date)\n",
    "\n",
    "    # Visualize the missing dates\n",
    "    fig, ax = plt.subplots(figsize=(10, .7))\n",
    "    ax.plot(date_range, [1] * len(date_range), 'g-', label='Existing Dates')\n",
    "    ax.plot(list(missing_dates), [1] * len(missing_dates), 'r.', markersize=10, label='Missing Dates')\n",
    "    ax.set_yticks([])\n",
    "    ax.xaxis.set_major_locator(mdates.MonthLocator())\n",
    "    ax.xaxis.set_major_formatter(mdates.DateFormatter('%m/%Y'))\n",
    "    ax.set_title('Missing Dates Visualization')\n",
    "\n",
    "    plt.show()\n",
    "    \n",
    "    return f\"min_date is: {min_date}\", f\"max_date is: {max_date}\", #missing_dates\n",
    "\n",
    "get_missing_dates(streams_df, 'end_timestamp')\n"
   ]
  },
  {
   "cell_type": "markdown",
   "id": "efe5ed90-41ab-44d0-a819-982a376a7a26",
   "metadata": {},
   "source": [
    "#### 3.8 Inspect Duplicate"
   ]
  },
  {
   "cell_type": "code",
   "execution_count": 193,
   "id": "60b952a9-90d1-4e15-88cd-c83c8f308f55",
   "metadata": {},
   "outputs": [
    {
     "name": "stdout",
     "output_type": "stream",
     "text": [
      "row duplicates in streams_df: 24\n",
      "row duplicates in accounts_df: 0\n",
      "column duplicates for end_timestamp: 54\n"
     ]
    }
   ],
   "source": [
    "# Inspect duplicates\n",
    "\n",
    "print(\n",
    "    f\"row duplicates in streams_df: {sum(streams_df.duplicated())}\",\n",
    "    f\"row duplicates in accounts_df: {sum(accounts_df.duplicated())}\",\n",
    "    sep = \"\\n\"\n",
    ")\n",
    "\n",
    "print(f\"column duplicates for end_timestamp: {sum(streams_df.end_timestamp.duplicated())}\")"
   ]
  },
  {
   "cell_type": "markdown",
   "id": "87133ff7-1002-44e9-9852-f67c6283f17b",
   "metadata": {},
   "source": [
    "#### 3.9 Remove Duplicates"
   ]
  },
  {
   "cell_type": "code",
   "execution_count": 194,
   "id": "ff1b1dcd-7098-43ee-99a7-4284fff5de0c",
   "metadata": {},
   "outputs": [
    {
     "name": "stdout",
     "output_type": "stream",
     "text": [
      "Number of Rows Removed: 24\n"
     ]
    }
   ],
   "source": [
    "def remove_duplicates(df):\n",
    "    #print(\"Duplicate Rows:\")\n",
    "    #print(df[df.duplicated()])\n",
    "    \n",
    "    old_len = len(df)\n",
    "    df.drop_duplicates(inplace=True)\n",
    "    new_len = len(df)\n",
    "    \n",
    "    print(f\"Number of Rows Removed: {old_len - new_len}\")\n",
    "    \n",
    "    \n",
    "    return df\n",
    "\n",
    "streams_df = remove_duplicates(streams_df)"
   ]
  },
  {
   "cell_type": "markdown",
   "id": "a4e22252-c2f8-4d59-bf33-7166c780b528",
   "metadata": {},
   "source": [
    "#### 3.10 Drop Problematic Accounts"
   ]
  },
  {
   "cell_type": "code",
   "execution_count": 195,
   "id": "4a93ee22-93c0-48af-b78d-90e79a154cc2",
   "metadata": {},
   "outputs": [
    {
     "name": "stdout",
     "output_type": "stream",
     "text": [
      "Dropped following users: ['98964da49d0a98402ed3d2d37b3350cf0aa346f522f8f1feb6b01cd680bc9455', 'd6723fa996ced47773f2dea29cce9b11f951e6dafe321a84ac7d32791c3b4660', 'a917ca757ac59f9d568616140c2f72362fc2722ab277e7b5019008f280f17beb', 'a807c0dc0a5b5ea4a70b12ba52ead3d30922e1eac15c396ccfdea715a2f15396', '8ae4c23b80d1e7c8ff79e515fe791ebd68190bae842dda7af193db125f700452']\n",
      "Dropped 5389 rows which was 2.0%\n"
     ]
    },
    {
     "data": {
      "image/png": "[encoded data removed]",
      "text/plain": [
       "<Figure size 550x250 with 1 Axes>"
      ]
     },
     "metadata": {},
     "output_type": "display_data"
    },
    {
     "data": {
      "text/html": [
       "<div>\n",
       "<style scoped>\n",
       "    .dataframe tbody tr th:only-of-type {\n",
       "        vertical-align: middle;\n",
       "    }\n",
       "\n",
       "    .dataframe tbody tr th {\n",
       "        vertical-align: top;\n",
       "    }\n",
       "\n",
       "    .dataframe thead th {\n",
       "        text-align: right;\n",
       "    }\n",
       "</style>\n",
       "<table border=\"1\" class=\"dataframe\">\n",
       "  <thead>\n",
       "    <tr style=\"text-align: right;\">\n",
       "      <th></th>\n",
       "      <th>account_number</th>\n",
       "      <th>price</th>\n",
       "      <th>churned</th>\n",
       "    </tr>\n",
       "  </thead>\n",
       "  <tbody>\n",
       "    <tr>\n",
       "      <th>128</th>\n",
       "      <td>a917ca757ac59f9d...</td>\n",
       "      <td>30.56</td>\n",
       "      <td>1</td>\n",
       "    </tr>\n",
       "    <tr>\n",
       "      <th>300</th>\n",
       "      <td>8ae4c23b80d1e7c8...</td>\n",
       "      <td>33.64</td>\n",
       "      <td>1</td>\n",
       "    </tr>\n",
       "    <tr>\n",
       "      <th>364</th>\n",
       "      <td>98964da49d0a9840...</td>\n",
       "      <td>36.90</td>\n",
       "      <td>0</td>\n",
       "    </tr>\n",
       "    <tr>\n",
       "      <th>589</th>\n",
       "      <td>a807c0dc0a5b5ea4...</td>\n",
       "      <td>30.56</td>\n",
       "      <td>0</td>\n",
       "    </tr>\n",
       "    <tr>\n",
       "      <th>590</th>\n",
       "      <td>d6723fa996ced477...</td>\n",
       "      <td>12.04</td>\n",
       "      <td>1</td>\n",
       "    </tr>\n",
       "  </tbody>\n",
       "</table>\n",
       "</div>"
      ],
      "text/plain": [
       "          account_number  price  churned\n",
       "128  a917ca757ac59f9d...  30.56        1\n",
       "300  8ae4c23b80d1e7c8...  33.64        1\n",
       "364  98964da49d0a9840...  36.90        0\n",
       "589  a807c0dc0a5b5ea4...  30.56        0\n",
       "590  d6723fa996ced477...  12.04        1"
      ]
     },
     "execution_count": 195,
     "metadata": {},
     "output_type": "execute_result"
    }
   ],
   "source": [
    "# Remove problematic NA accounts\n",
    "\n",
    "\n",
    "def drop_na_users(df: pd.DataFrame, column_names: list, percent_threshold: float, verbose: bool = True) -> pd.DataFrame:\n",
    "    '''\n",
    "    Drop users with a certain percentage of NA's across different column names\n",
    "    '''\n",
    "\n",
    "    filtered_users = []\n",
    "\n",
    "    for column_name in column_names:\n",
    "        # Count of null values by user\n",
    "        null_counts = df[df[column_name].isnull()].groupby('account_number').size()\n",
    "\n",
    "        # Count of rows by user\n",
    "        total_counts = df.groupby('account_number').size()\n",
    "\n",
    "        # Calculate percentages\n",
    "        percentages = (null_counts / total_counts) * 100\n",
    "\n",
    "        # Filter out users based on percentage threshold\n",
    "        filtered_users.extend(percentages[percentages >= percent_threshold].index.tolist())\n",
    "\n",
    "    # Remove duplicates from filtered_users\n",
    "    filtered_users = list(set(filtered_users))\n",
    "\n",
    "    # Remove users and rows with any null value\n",
    "    result = df[~df['account_number'].isin(filtered_users)]\n",
    "\n",
    "    if verbose:\n",
    "        print(f\"Dropped following users: {filtered_users}\")\n",
    "        old_n = len(df)\n",
    "        new_n = len(result)\n",
    "        print(f\"Dropped {old_n-new_n} rows which was {round((old_n-new_n)/old_n, 2) * 100}%\")\n",
    "\n",
    "    # Visualize the users being removed\n",
    "    na_percentages = [percentages.loc[user] for user in filtered_users]\n",
    "    fig, ax = plt.subplots(figsize=(5.5, 2.5))\n",
    "    ax.bar(range(len(filtered_users)), na_percentages)\n",
    "    ax.set_xticks(range(len(filtered_users)))\n",
    "    ax.set_xticklabels(filtered_users, rotation='vertical')\n",
    "\n",
    "    ax.set_ylabel('Percentage of NAs')\n",
    "    ax.set_xlabel('Accounts_with_nas')\n",
    "    plt.xticks([]) # remove labels\n",
    "    ax.set_title('NA% Accounts')\n",
    "    plt.tight_layout()\n",
    "    plt.show()\n",
    "\n",
    "    return result, filtered_users\n",
    "\n",
    "streams_df, filtered_users = drop_na_users(streams_df, [\"start_timestamp\"], 20)\n",
    "\n",
    "accounts_df[accounts_df.account_number.isin(filtered_users)]"
   ]
  },
  {
   "cell_type": "markdown",
   "id": "172b1a7c-bc60-477c-b5c8-26ed75337238",
   "metadata": {},
   "source": [
    "#### 3.11 Examine LEFT & RIGHT Join Relationships"
   ]
  },
  {
   "cell_type": "code",
   "execution_count": 196,
   "id": "7f8ffdf6-1d87-4325-bfa9-4c6f04b07726",
   "metadata": {},
   "outputs": [
    {
     "name": "stdout",
     "output_type": "stream",
     "text": [
      "total users = 1000\n",
      "intersection = 541\n",
      "users only in account = 459\n",
      "users only in streams = 0\n"
     ]
    }
   ],
   "source": [
    "# examine join relationship\n",
    "\n",
    "account_users = set(accounts_df.account_number)\n",
    "stream_users = set(streams_df.account_number)\n",
    "print(\\\n",
    "f\"total users = {len(account_users.union(stream_users))}\",\n",
    "f\"intersection = {len(account_users.intersection(stream_users))}\",\n",
    "f\"users only in account = {len(account_users.difference(stream_users))}\",\n",
    "f\"users only in streams = {len(stream_users.difference(account_users))}\", sep = \"\\n\"\n",
    ")"
   ]
  },
  {
   "cell_type": "markdown",
   "id": "202ee6f2-119a-403d-890d-9ef4bbd97d76",
   "metadata": {},
   "source": [
    "#### 3.12 Add Duration Feature (to detect outliers)"
   ]
  },
  {
   "cell_type": "code",
   "execution_count": 197,
   "id": "887b9023-0926-4a5b-9eb4-6e9717f16d27",
   "metadata": {},
   "outputs": [],
   "source": [
    "# Subtract the two timestamp columns and convert to timedelta\n",
    "streams_df['duration_seconds'] = (streams_df['end_timestamp'] - streams_df['start_timestamp']).dt.total_seconds()"
   ]
  },
  {
   "cell_type": "markdown",
   "id": "a2b99acc-a691-4ba3-8d74-e6976c95824c",
   "metadata": {},
   "source": [
    "#### 3.13 Detect & Remove Outliers"
   ]
  },
  {
   "cell_type": "code",
   "execution_count": 198,
   "id": "ffadca26-99d1-4f81-8503-f410a108d953",
   "metadata": {},
   "outputs": [
    {
     "name": "stdout",
     "output_type": "stream",
     "text": [
      "Outliers in column 'duration_seconds':\n",
      "\n",
      "             account_number  duration_seconds  Z Score\n",
      "203567  14063697603e22d6...          639271.0     99.0\n",
      "135117  d48ff4b2f68a10fd...         1717080.0    266.0\n",
      "306705  da70dfa4d9f95ac9...         2925841.0    454.0\n"
     ]
    }
   ],
   "source": [
    "def detect_and_remove_outliers(df, columns, z_score_threshold, remove_outliers=False):\n",
    "    mask = pd.Series(True, index=df.index)\n",
    "    \n",
    "    for column in columns:\n",
    "        column_data = df[column]\n",
    "        z_scores = (column_data - column_data.mean()) / column_data.std()\n",
    "        is_outlier = np.abs(z_scores) > z_score_threshold\n",
    "        outliers = df[is_outlier][[\"account_number\"]+columns]\n",
    "\n",
    "        if not outliers.empty:\n",
    "            outliers_z_scores = pd.DataFrame({'Z Score': z_scores[is_outlier]}, index=outliers.index)\n",
    "            outliers = pd.concat([outliers, outliers_z_scores], axis=1)\n",
    "\n",
    "            print(f\"Outliers in column '{column}':\\n\")\n",
    "            print(round(outliers.sort_values(\"Z Score\")))\n",
    "        \n",
    "        if remove_outliers:\n",
    "            mask &= ~is_outlier\n",
    "\n",
    "    if remove_outliers:\n",
    "        df = df[mask]\n",
    "\n",
    "    return df\n",
    "streams_df = detect_and_remove_outliers(streams_df, [\"duration_seconds\"], 14, remove_outliers = True)"
   ]
  },
  {
   "cell_type": "markdown",
   "id": "19a75d0f-22d5-4549-93b1-e96d8d17b825",
   "metadata": {},
   "source": [
    "#### 3.14 Remove Odd Durations"
   ]
  },
  {
   "cell_type": "code",
   "execution_count": 199,
   "id": "eaf1b042-631a-434d-a15f-032600824292",
   "metadata": {},
   "outputs": [
    {
     "name": "stdout",
     "output_type": "stream",
     "text": [
      "records with negative duration - 1\n",
      "             account_number  duration_seconds\n",
      "200601  5538e771949ffec1...         -3550.886\n"
     ]
    }
   ],
   "source": [
    "# Filter bad data (negative duration streams and too long streams)\n",
    "\n",
    "def filter_stream_duration(df: pd.DataFrame, col:str, verbose: bool = True):\n",
    "    # create indexes\n",
    "    index_negative = streams_df[col] < 0\n",
    "    \n",
    "    if verbose:\n",
    "        print(f\"records with negative duration - {sum(index_negative)}\")\n",
    "        print(df[index_negative][[\"account_number\",\"duration_seconds\"]])\n",
    "\n",
    "    return(df[-index_negative]) # bitwise operator - record must be TRUE & TRUE to keep   \n",
    "    \n",
    "streams_df = filter_stream_duration(streams_df, \"duration_seconds\") "
   ]
  },
  {
   "cell_type": "markdown",
   "id": "d075355c-b8f2-4e0a-a1bf-fe03c66296c5",
   "metadata": {},
   "source": [
    "## 4.0 exploratory data analysis (EDA)"
   ]
  },
  {
   "cell_type": "markdown",
   "id": "9ceed23a-801a-4f7c-ad93-205201b7319c",
   "metadata": {},
   "source": [
    "**Summary**\n",
    " - **Histgorams** - We look at histograms of major features to ensure distributions are expected without major outliers\n",
    " - **Feature Importance** - We plot feature importance in the ```Results & Analysis``` Section\n",
    " - **Correlation Matrix** - We do not use a correlation matrix because the features were too few to justify this\n",
    " - **Findings** - Findings are discussed in each respective section. In summary the data is limited, and there are many sessions with very short durations. This is concerning. Otherwise data shows some expected trends for streaming data"
   ]
  },
  {
   "cell_type": "markdown",
   "id": "dc827f07-09d2-49f2-b92d-6112d71fd98d",
   "metadata": {},
   "source": [
    "#### 4.1 - Univariate Analysis ```mean_opinion_score_value```\n",
    "- Score Range - We see expected distribution. Most scores are near 5 (which is perfect score)\n",
    "- Plots - We plot 0 to 5, but also plot 3.5 to 5 which is the range where most values lie."
   ]
  },
  {
   "cell_type": "code",
   "execution_count": 200,
   "id": "3107bc4f",
   "metadata": {},
   "outputs": [
    {
     "data": {
      "image/png": "[encoded data removed]",
      "text/plain": [
       "<Figure size 600x200 with 2 Axes>"
      ]
     },
     "metadata": {},
     "output_type": "display_data"
    },
    {
     "name": "stdout",
     "output_type": "stream",
     "text": [
      "4.595744680851064\n"
     ]
    }
   ],
   "source": [
    "import pandas as pd\n",
    "import matplotlib.pyplot as plt\n",
    "\n",
    "# Create a sample DataFrame\n",
    "df = streams_df.sort_values(by=\"mean_opinion_score_value\")\n",
    "\n",
    "# Create a single subplot\n",
    "fig, ax = plt.subplots(1,2,figsize=(6, 2))\n",
    "\n",
    "# Plot the histogram with range 2000\n",
    "ax[1].hist(df['mean_opinion_score_value'], bins=10, range=[3.6,4.6])\n",
    "ax[1].set_title('mos_score per session')\n",
    "\n",
    "ax[0].hist(df['mean_opinion_score_value'], bins=10, range=[0, 5])\n",
    "ax[0].set_title('mos_score per session')\n",
    "# Display the plot\n",
    "plt.tight_layout()\n",
    "plt.show()\n",
    "print(streams_df.mean_opinion_score_value.max())\n"
   ]
  },
  {
   "cell_type": "markdown",
   "id": "86d0d792-8a6f-4411-9103-70ec616c2e55",
   "metadata": {},
   "source": [
    "#### 4.2 - Univariate Analysis ```account_number```\n",
    "- Here we sort accounts with most sessions to see if there are serious outliers\n",
    "- Most accounts have less than 50 sessions\n",
    "- Some \"power uses\" have hundreds of sessions"
   ]
  },
  {
   "cell_type": "code",
   "execution_count": 201,
   "id": "7480a111",
   "metadata": {
    "scrolled": true
   },
   "outputs": [
    {
     "data": {
      "image/png": "[encoded data removed]",
      "text/plain": [
       "<Figure size 800x200 with 2 Axes>"
      ]
     },
     "metadata": {},
     "output_type": "display_data"
    }
   ],
   "source": [
    "import pandas as pd\n",
    "import matplotlib.pyplot as plt\n",
    "\n",
    "# Create a sample DataFrame\n",
    "df = streams_df.groupby(\"account_number\").count().sort_values(by=\"end_timestamp\")\n",
    "\n",
    "# Create subplots with 1 row and 2 columns\n",
    "fig, axes = plt.subplots(1, 2, figsize=(8, 2))\n",
    "\n",
    "# Plot the first histogram with range 2000\n",
    "axes[0].hist(df['end_timestamp'], bins=40, range=(0, 2000))\n",
    "axes[0].set_title('Hist: # Sessions per Account')\n",
    "\n",
    "# Plot the second histogram with range 10\n",
    "axes[1].hist(df['end_timestamp'], bins=\"auto\", range=(0, 50))\n",
    "axes[1].set_title('Hist: # Sessions per Account')\n",
    "\n",
    "# Adjust the spacing between subplots\n",
    "plt.tight_layout()\n",
    "\n",
    "# Display the plot\n",
    "plt.show()\n"
   ]
  },
  {
   "cell_type": "markdown",
   "id": "fffbf84d-c11d-461c-9afb-fb0a15e23088",
   "metadata": {},
   "source": [
    "#### 4.3 - Univariate Analysis ```Price```\n",
    "- 30 dollar average - We see no outliers. Price is expected at 30 or so dollars per user\n",
    "- Subsidy - Many users pay less than 15 dollars which are likely subsidized users"
   ]
  },
  {
   "cell_type": "code",
   "execution_count": 202,
   "id": "3cb0c2bf",
   "metadata": {},
   "outputs": [
    {
     "data": {
      "image/png": "[encoded data removed]",
      "text/plain": [
       "<Figure size 300x150 with 1 Axes>"
      ]
     },
     "metadata": {},
     "output_type": "display_data"
    }
   ],
   "source": [
    "import pandas as pd\n",
    "import matplotlib.pyplot as plt\n",
    "\n",
    "# Create a sample DataFrame\n",
    "df = accounts_df.sort_values(by=\"price\")\n",
    "\n",
    "# Create a single subplot\n",
    "fig, ax = plt.subplots(figsize=(3, 1.5))\n",
    "\n",
    "# Plot the histogram with range 2000\n",
    "ax.hist(df['price'], bins=20)\n",
    "ax.set_title('Hist: Price per Account')\n",
    "\n",
    "# Display the plot\n",
    "plt.show()\n"
   ]
  },
  {
   "cell_type": "markdown",
   "id": "c5069ad2-417b-4ec3-baac-3105305c0806",
   "metadata": {},
   "source": [
    "#### 4.4 - Univariate Analysis ```duration```\n",
    "- Data Quality - Most sessions are <200 seconds. This suggests many users log in and off very quickly. This might be a data quality issue\n",
    "- By User is Normal - Sessions (by user) shows a more normal curve (excluding outliers). We see many sessions lasting ~1400 seconds which is 20 or so minutes which is expected."
   ]
  },
  {
   "cell_type": "code",
   "execution_count": 203,
   "id": "555c231a",
   "metadata": {},
   "outputs": [
    {
     "data": {
      "image/png": "[encoded data removed]",
      "text/plain": [
       "<Figure size 600x200 with 2 Axes>"
      ]
     },
     "metadata": {},
     "output_type": "display_data"
    }
   ],
   "source": [
    "import pandas as pd\n",
    "import matplotlib.pyplot as plt\n",
    "\n",
    "# Create a sample DataFrame\n",
    "df = streams_df.groupby(\"account_number\").mean(numeric_only=True).sort_values(by=\"duration_seconds\")\n",
    "\n",
    "# Create subplots with 1 row and 2 columns\n",
    "fig, axes = plt.subplots(1, 2, figsize=(6, 2))\n",
    "\n",
    "# Plot the first histogram with range 2000\n",
    "axes[1].hist(df['duration_seconds'], bins=30, range=(0, 3000))\n",
    "axes[1].set_title('Hist: Avg Session Duration per User')\n",
    "axes[1].set_xlabel('Average Seconds')\n",
    "# Plot the second histogram with range 10\n",
    "axes[0].hist(streams_df['duration_seconds'], bins=30, range=(0, 3000))\n",
    "axes[0].set_title('Hist: Session Duration')\n",
    "axes[0].set_xlabel('Seconds')\n",
    "# Adjust the spacing between subplots\n",
    "plt.tight_layout()\n",
    "\n",
    "# Display the plot\n",
    "plt.show()\n"
   ]
  },
  {
   "cell_type": "markdown",
   "id": "d4e4cafb-3ef4-4e28-b4f9-ae2cb84e5ad8",
   "metadata": {},
   "source": [
    "## 5.0 Feature Engineering"
   ]
  },
  {
   "cell_type": "markdown",
   "id": "808b10c1-b5cb-431a-8611-0bedd28bcdce",
   "metadata": {},
   "source": [
    "#### 5.1 Create Sinusoidal Features"
   ]
  },
  {
   "cell_type": "code",
   "execution_count": 204,
   "id": "cb97b2bd",
   "metadata": {},
   "outputs": [],
   "source": [
    "\n",
    "def create_sinusoidal_features(df, timestamp_column, prefix = \"\"):\n",
    "    # Extract hour and day of the week from the timestamp column\n",
    "    hours = df[timestamp_column].dt.hour\n",
    "    days_of_week = df[timestamp_column].dt.dayofweek\n",
    "\n",
    "    # Perform sinusoidal transformation for hour of the day\n",
    "    df[f'{prefix}_hour_sin'] = np.sin(2 * np.pi * hours / 24)\n",
    "    df[f'{prefix}_hour_cos'] = np.cos(2 * np.pi * hours / 24)\n",
    "\n",
    "    # Perform sinusoidal transformation for day of the week\n",
    "    df[f'{prefix}_day_of_week_sin'] = np.sin(2 * np.pi * days_of_week / 7)\n",
    "    df[f'{prefix}_day_of_week_cos'] = np.cos(2 * np.pi * days_of_week / 7)\n",
    "\n",
    "    return df\n",
    "\n",
    "streams_df = create_sinusoidal_features(streams_df, \"start_timestamp\", \"start\")\n",
    "streams_df = create_sinusoidal_features(streams_df, \"end_timestamp\", \"end\")"
   ]
  },
  {
   "cell_type": "markdown",
   "id": "00f78f3f-7655-494d-8b91-6091a5e21be6",
   "metadata": {},
   "source": [
    "#### 5.2 Add Dummy Variables"
   ]
  },
  {
   "cell_type": "code",
   "execution_count": 205,
   "id": "16571d65",
   "metadata": {
    "scrolled": true
   },
   "outputs": [],
   "source": [
    "# add binary / dummy variables expected of high signal\n",
    "\n",
    "streams_df[\"mos_score_zero\"] = streams_df.mean_opinion_score_value == 0\n",
    "streams_df[\"duration_less_5_min\"] = streams_df.duration_seconds < 60*5 # 5 min\n",
    "streams_df[\"duration_less_1_min\"] = streams_df.duration_seconds < 60   # 1 min\n",
    "streams_df[\"mos_less_4_5\"] = streams_df.mean_opinion_score_value < 4.5   \n",
    "streams_df[\"mos_less_4_0\"] = streams_df.mean_opinion_score_value < 4   "
   ]
  },
  {
   "cell_type": "markdown",
   "id": "aa35af91-cadc-442f-96a0-f7f1500c6183",
   "metadata": {},
   "source": [
    "#### 5.3 Aggregation Features (Top 5 Sessions)"
   ]
  },
  {
   "cell_type": "code",
   "execution_count": 206,
   "id": "5dfa9487-2cc2-4e8e-9cb3-4e3c22168fec",
   "metadata": {},
   "outputs": [],
   "source": [
    "streams_df.reset_index(inplace= True)"
   ]
  },
  {
   "cell_type": "code",
   "execution_count": 207,
   "id": "fe6430c7",
   "metadata": {},
   "outputs": [],
   "source": [
    "# import pandas as pd\n",
    "\n",
    "# def aggregate_last_n_streams(df, aggregation_dict, n=5, prefix='top_n_'):\n",
    "#     # Get the indices of the last n streams for each account number\n",
    "#     index_top_n = df.groupby('account_number')['end_timestamp'].nlargest(n).index.get_level_values(1)\n",
    "\n",
    "#     # Select the columns to be aggregated\n",
    "#     columns_to_aggregate = list(aggregation_dict.keys())\n",
    "\n",
    "#     # Roll up the DataFrame by account and apply the aggregations\n",
    "#     rolled_up_df = df.iloc[index_top_n].groupby('account_number', dropna=False)[columns_to_aggregate].agg(aggregation_dict)\n",
    "\n",
    "#     # Flatten the column names\n",
    "#     rolled_up_df.columns = rolled_up_df.columns.map('_'.join)\n",
    "\n",
    "#     # Reset the index to make 'account_number' a regular column\n",
    "#     rolled_up_df.reset_index(inplace=True)\n",
    "\n",
    "#     # Add the prefix to the column names\n",
    "#     rolled_up_df.columns = [prefix + col if col != 'account_number' else col for col in rolled_up_df.columns]\n",
    "\n",
    "#     return rolled_up_df\n",
    "\n",
    "\n",
    "# aggregation_dict_top_n = {\n",
    "#     'duration_seconds': ['max', 'mean', 'min', 'median', 'count'],\n",
    "#     'mean_opinion_score_value': ['max', 'mean', 'min', 'median'],\n",
    "#     'mos_score_zero': ['sum'],\n",
    "#     'duration_less_5_min': ['sum'],\n",
    "#     'mos_less_4_5': ['sum'],\n",
    "#     'mos_less_4_0': ['sum']\n",
    "# }\n",
    "\n",
    "# rolled_up_df_top_n = aggregate_last_n_streams(streams_df, aggregation_dict_top_n, n=5, prefix='top_5_')"
   ]
  },
  {
   "cell_type": "markdown",
   "id": "b45e7deb-ed16-4b09-ba27-2788b1f7ba32",
   "metadata": {},
   "source": [
    "#### 5.4 Aggregation Features (Mean, Max, Min, Median, Count)"
   ]
  },
  {
   "cell_type": "code",
   "execution_count": 208,
   "id": "8b6c9ce4",
   "metadata": {},
   "outputs": [],
   "source": [
    "# Aggregate last 5 stream DF\n",
    "\n",
    "index_top_5 = streams_df.groupby('account_number').end_timestamp.nlargest(5).index.get_level_values(1)\n",
    "\n",
    "aggregation_dict_top_n = {\n",
    "    'duration_seconds': ['max', 'mean', 'min', 'median','count'],\n",
    "    'mean_opinion_score_value': ['max', 'mean', 'min', 'median'],\n",
    "    'mos_score_zero': ['sum'],\n",
    "    'duration_less_5_min':['sum'],\n",
    "    'duration_less_5_min':['sum'],\n",
    "    'mos_less_4_5':['sum'],\n",
    "    'mos_less_4_0':['sum']\n",
    "}\n",
    "\n",
    "\n",
    "columns_to_aggregate = list(aggregation_dict_top_n.keys())\n",
    "\n",
    "# Roll up the DataFrame by account and apply the aggregations\n",
    "rolled_up_df_top_n = streams_df.iloc[index_top_5].groupby('account_number', dropna = False)[columns_to_aggregate].agg(aggregation_dict_top_n)\n",
    "\n",
    "# Flatten the column names\n",
    "rolled_up_df_top_n.columns = rolled_up_df_top_n.columns.map('_'.join)\n",
    "\n",
    "# Reset the index to make 'account_number' a regular column\n",
    "rolled_up_df_top_n.reset_index(inplace=True)\n",
    "\n",
    "# Define the suffix to be added\n",
    "prefix = 'top_5_'\n",
    "\n",
    "# Loop through each column in the DataFrame\n",
    "for column in rolled_up_df_top_n.columns:\n",
    "    \n",
    "    if column != \"account_number\":\n",
    "    # Add the suffix to the column name\n",
    "        new_column = prefix + column \n",
    "    \n",
    "    # Update the column name in the DataFrame\n",
    "        rolled_up_df_top_n.rename(columns={column: new_column}, inplace=True)"
   ]
  },
  {
   "cell_type": "markdown",
   "id": "0502f91f-7e77-4ad1-adbf-348e1f1e8973",
   "metadata": {},
   "source": [
    "#### 5.4 Aggregation Features"
   ]
  },
  {
   "cell_type": "code",
   "execution_count": 209,
   "id": "65a3c95c",
   "metadata": {},
   "outputs": [],
   "source": [
    "\n",
    "# Define the aggregation functions and new column names\n",
    "aggregation_dict = {\n",
    "    'start_timestamp': 'min',\n",
    "    'end_timestamp': ['max', 'mean', 'count'],\n",
    "    'duration_seconds': ['max', 'mean', 'min', 'median','count'],\n",
    "    'mean_opinion_score_value': ['count', 'max', 'mean', 'min', 'median'],\n",
    "    'start_hour_sin': 'mean',\n",
    "    'end_hour_sin': 'mean',\n",
    "    'start_hour_cos': 'mean',\n",
    "    'end_hour_cos': 'mean',\n",
    "    'start_day_of_week_sin': 'mean',\n",
    "    'end_day_of_week_sin': 'mean',\n",
    "    'start_day_of_week_cos': 'mean',\n",
    "    'end_day_of_week_cos': 'mean',\n",
    "    'mos_score_zero': ['sum'],\n",
    "    'duration_less_5_min':['sum'],\n",
    "    'duration_less_5_min':['sum'],\n",
    "    'mos_less_4_5':['sum'],\n",
    "    'mos_less_4_0':['sum']\n",
    "}\n",
    "\n",
    "\n",
    "columns_to_aggregate = list(aggregation_dict.keys())\n",
    "\n",
    "# Roll up the DataFrame by account and apply the aggregations\n",
    "partial_rolled_up_df = streams_df.groupby('account_number', dropna = False)[columns_to_aggregate]\n",
    "\n",
    "rolled_up_df = partial_rolled_up_df.agg(aggregation_dict)\n",
    "\n",
    "# Flatten the column names\n",
    "rolled_up_df.columns = rolled_up_df.columns.map('_'.join)\n",
    "\n",
    "# Reset the index to make 'account_number' a regular column\n",
    "rolled_up_df.reset_index(inplace=True)\n"
   ]
  },
  {
   "cell_type": "markdown",
   "id": "357cf1ab-b1f9-4f8a-afa9-b4e51787be89",
   "metadata": {},
   "source": [
    "#### 5.5 Merge Features & Target"
   ]
  },
  {
   "cell_type": "code",
   "execution_count": 210,
   "id": "e69baa6f",
   "metadata": {},
   "outputs": [],
   "source": [
    "rolled_up_df = pd.merge(rolled_up_df, rolled_up_df_top_n, on=\"account_number\", how = \"outer\")\n",
    "merged_df = pd.merge(rolled_up_df, accounts_df, how='outer', on = \"account_number\")"
   ]
  },
  {
   "cell_type": "code",
   "execution_count": 211,
   "id": "9988c543",
   "metadata": {},
   "outputs": [],
   "source": [
    "# rolled_up_df[\"percent_na_mos_score\"] = rolled_up_df.mos_score_count / rolled_up_df.end_timestamp_count \n",
    "# rolled_up_df[\"tail_end_moss_difference\"] = rolled_up_df[\"mos_score_mean\"] - rolled_up_df[\"top_5_mos_score_mean\"]"
   ]
  },
  {
   "cell_type": "markdown",
   "id": "f81f2f41-09d6-4adf-9a58-6ff79db4bec3",
   "metadata": {},
   "source": [
    "#### 5.6 Add Additional Timestamp Features"
   ]
  },
  {
   "cell_type": "code",
   "execution_count": 212,
   "id": "90be58db",
   "metadata": {},
   "outputs": [],
   "source": [
    "merged_df['duration_first_to_last'] = (merged_df.end_timestamp_max - merged_df.start_timestamp_min).dt.total_seconds()\n",
    "\n",
    "# Get the maximum and minimum values of the timestamp column\n",
    "max_timestamp = merged_df['end_timestamp_mean'].max()\n",
    "min_timestamp = merged_df['end_timestamp_mean'].min()\n",
    "\n",
    "# Calculate the time range\n",
    "time_range = max_timestamp - min_timestamp\n",
    "\n",
    "# Standardize the timestamp column from 0 to 1\n",
    "merged_df['end_timestamp_mean'] = (merged_df['end_timestamp_mean'] - min_timestamp) / time_range\n",
    "\n",
    "# Drop max and min\n",
    "merged_df.drop(columns=['end_timestamp_max', 'start_timestamp_min'], inplace=True)\n"
   ]
  },
  {
   "cell_type": "markdown",
   "id": "04738443",
   "metadata": {},
   "source": [
    "## 6.0 Models\n",
    "**Summary**\n",
    "- Model Choice: Random Forest\n",
    "- Collinearity Conditions - Generally collinearity of features is not a problem for Random Forest. Therefore Our approach is to twist and construe many features and test them all in the model to see which features are important\n",
    "- Interactions - Since we had few features we don't test particular interaction terms. We do however test dummy variables at key points where we believe there are signal to help the model find the signal.\n",
    "- Model Testing - I test a variety of models (see section 6.1)\n",
    "- Model Importance - I graph model importance for Random Forest\n",
    "- Class Imbalance - There was no need to treat for imbalance because it was already pretty balanced, it is noted however that we optimized for recall\n",
    "- Overfitting - Random forest is particularly robust against overfitting because of random sampling & random feature selection. Nonetheless I plot learning curve and see a convergence."
   ]
  },
  {
   "cell_type": "markdown",
   "id": "62e1722e-6df2-47db-bbc9-d32f4588d9d0",
   "metadata": {},
   "source": [
    "#### 6.1 Test Different Models\n",
    "- Performance - Random Forest is top performer for recall\n",
    "- Favorable Properties - Because of random forest robustness to overfit and simplicity we choose this model"
   ]
  },
  {
   "cell_type": "code",
   "execution_count": 214,
   "id": "429d97d8-8d80-41c2-8cf9-9ee5fbff6e65",
   "metadata": {},
   "outputs": [],
   "source": [
    "merged_df.fillna(value=0, inplace=True)"
   ]
  },
  {
   "cell_type": "code",
   "execution_count": 215,
   "id": "f7079f19",
   "metadata": {},
   "outputs": [
    {
     "name": "stdout",
     "output_type": "stream",
     "text": [
      "0.806 Average Accuracy: Random Forest\n",
      "Confusion Matrix:\n",
      "[[424 163]\n",
      " [ 31 382]]\n",
      "Precision: 0.701\n",
      "Recall: 0.925\n",
      "\n",
      "0.799 Average Accuracy: Gradient Boost\n",
      "Confusion Matrix:\n",
      "[[437 150]\n",
      " [ 51 362]]\n",
      "Precision: 0.708\n",
      "Recall: 0.876\n",
      "\n",
      "0.792 Average Accuracy: XGBoost\n",
      "Confusion Matrix:\n",
      "[[447 140]\n",
      " [ 68 345]]\n",
      "Precision: 0.713\n",
      "Recall: 0.835\n",
      "\n",
      "0.767 Average Accuracy: Logistic Regression\n",
      "Confusion Matrix:\n",
      "[[392 195]\n",
      " [ 38 375]]\n",
      "Precision: 0.658\n",
      "Recall: 0.908\n",
      "\n",
      "0.754 Average Accuracy: SVM\n",
      "Confusion Matrix:\n",
      "[[375 212]\n",
      " [ 34 379]]\n",
      "Precision: 0.641\n",
      "Recall: 0.918\n",
      "\n",
      "0.720 Average Accuracy: Naive Bayes\n",
      "Confusion Matrix:\n",
      "[[341 246]\n",
      " [ 34 379]]\n",
      "Precision: 0.606\n",
      "Recall: 0.918\n",
      "\n"
     ]
    }
   ],
   "source": [
    "from sklearn.metrics import confusion_matrix, precision_score, recall_score\n",
    "\n",
    "def run_classification(X, y, num_folds=4):\n",
    "    # Create the individual classifiers\n",
    "    svm_classifier = SVC()\n",
    "    random_forest_classifier = RandomForestClassifier(\n",
    "        n_estimators = 100,\n",
    "        min_samples_split = 10, \n",
    "        min_samples_leaf = 5,\n",
    "        max_depth=4,\n",
    "        criterion=\"entropy\", \n",
    "        class_weight=\"balanced\",\n",
    "        max_features=.5\n",
    "    )\n",
    "    naive_bayes_classifier = GaussianNB()\n",
    "    logistic_regression = LogisticRegression(max_iter=1000, solver = \"liblinear\", penalty = 'l1')\n",
    "    gradient_booster = GradientBoostingClassifier()\n",
    "    xgb_classifier = XGBClassifier()\n",
    "    #knn_classifier = KNeighborsClassifier()\n",
    "\n",
    "    # Define a list of classifiers\n",
    "    classifiers = [\n",
    "        ('SVM', svm_classifier),\n",
    "        ('Random Forest', random_forest_classifier),\n",
    "        ('Naive Bayes', naive_bayes_classifier),\n",
    "        ('Logistic Regression', logistic_regression),\n",
    "        ('Gradient Boost', gradient_booster),\n",
    "        ('XGBoost', xgb_classifier),\n",
    "        #('KNN', knn_classifier)\n",
    "    ]\n",
    "\n",
    "    # Create stratified k-fold cross-validator\n",
    "    kfold = StratifiedKFold(n_splits=num_folds, shuffle=True, random_state=random.randint(0, 100))\n",
    "\n",
    "    model_performances = []\n",
    "\n",
    "    # Train and evaluate each classifier using cross-validation\n",
    "    for name, classifier in classifiers:\n",
    "        accuracy_scores = []\n",
    "        confusion_matrices = []\n",
    "        precision_scores = []\n",
    "        recall_scores = []\n",
    "\n",
    "        for train_index, test_index in kfold.split(X, y):\n",
    "            X_train_fold, X_test_fold = X.iloc[train_index], X.iloc[test_index]\n",
    "            y_train_fold, y_test_fold = y.iloc[train_index], y.iloc[test_index]\n",
    "            classifier.fit(X=X_train_fold, y=y_train_fold)\n",
    "            accuracy = classifier.score(X_test_fold, y_test_fold)\n",
    "            accuracy_scores.append(accuracy)\n",
    "            y_pred = classifier.predict(X_test_fold)\n",
    "            confusion_matrices.append(confusion_matrix(y_test_fold, y_pred))\n",
    "            precision_scores.append(precision_score(y_test_fold, y_pred))\n",
    "            recall_scores.append(recall_score(y_test_fold, y_pred))\n",
    "\n",
    "        avg_accuracy = np.mean(accuracy_scores)\n",
    "        avg_precision = np.mean(precision_scores)\n",
    "        avg_recall = np.mean(recall_scores)\n",
    "\n",
    "        model_performances.append([name, avg_accuracy, confusion_matrices, avg_precision, avg_recall])\n",
    "\n",
    "    for x in sorted(model_performances, key=lambda x: x[1], reverse=True):\n",
    "        print(f\"{x[1]:.3f} Average Accuracy: {x[0]}\")\n",
    "        print(\"Confusion Matrix:\")\n",
    "        cf_summed = np.sum(x[2], axis=0)\n",
    "        print(cf_summed)\n",
    "        print(f\"Precision: {x[3]:.3f}\")\n",
    "        print(f\"Recall: {x[4]:.3f}\")\n",
    "        print()\n",
    "\n",
    "\n",
    "# Example usage\n",
    "X = merged_df.drop(columns=['churned','account_number'])\n",
    "y = merged_df['churned']\n",
    "run_classification(X, y,3)\n"
   ]
  },
  {
   "cell_type": "markdown",
   "id": "685e7272-de68-4102-bc4c-d292f9e5a499",
   "metadata": {},
   "source": [
    "#### 6.2 Feature Importance (Random Forest)"
   ]
  },
  {
   "cell_type": "code",
   "execution_count": 216,
   "id": "e586ecb2",
   "metadata": {},
   "outputs": [
    {
     "data": {
      "image/png": "[encoded data removed]",
      "text/plain": [
       "<Figure size 300x700 with 1 Axes>"
      ]
     },
     "metadata": {},
     "output_type": "display_data"
    }
   ],
   "source": [
    "# Prepare the data\n",
    "X = merged_df.drop(columns=['churned','account_number'])\n",
    "y = merged_df['churned']\n",
    "\n",
    "# Fit the random forest model\n",
    "rf = RandomForestClassifier(\n",
    "    n_estimators = 100,\n",
    "    min_samples_split = 20, \n",
    "    min_samples_leaf = 5,\n",
    "    max_depth=4,\n",
    "    criterion=\"entropy\", \n",
    "    class_weight={False:1,True:2},\n",
    "    max_features=.5\n",
    ")\n",
    "rf.fit(X, y)\n",
    "\n",
    "# Get the feature importances\n",
    "importances = rf.feature_importances_\n",
    "\n",
    "# Create a dataframe of feature importances\n",
    "feature_importances = pd.DataFrame({'Feature': X.columns, 'Importance': importances})\n",
    "\n",
    "# Sort the features by importance in descending order\n",
    "feature_importances = feature_importances.sort_values(by='Importance', ascending=False)\n",
    "\n",
    "# Plot the feature importances\n",
    "plt.figure(figsize=(3, 7))\n",
    "plt.barh(feature_importances['Feature'], feature_importances['Importance'])\n",
    "plt.xlabel('Importance')\n",
    "plt.ylabel('Feature')\n",
    "plt.title('Random Forest Feature Importance')\n",
    "plt.show()\n",
    "\n"
   ]
  },
  {
   "cell_type": "markdown",
   "id": "811209f3-1bc8-4913-a06c-f83ead3299d5",
   "metadata": {},
   "source": [
    "#### 6.3 Class Imbalance\n",
    "- Not significant class imbalance. There are roughly %60 of non churned"
   ]
  },
  {
   "cell_type": "code",
   "execution_count": 217,
   "id": "ae8aab95-b5ca-4e26-9c7f-1b8bdce04cde",
   "metadata": {},
   "outputs": [
    {
     "name": "stdout",
     "output_type": "stream",
     "text": [
      "Class Counts for 'churned' column:\n",
      "churned\n",
      "0    587\n",
      "1    413\n",
      "Name: count, dtype: int64\n"
     ]
    }
   ],
   "source": [
    "class_counts = accounts_df['churned'].value_counts()\n",
    "\n",
    "print(\"Class Counts for 'churned' column:\")\n",
    "print(class_counts)"
   ]
  },
  {
   "cell_type": "markdown",
   "id": "2b5e4920-4d73-4a85-8da7-d5a8d8b26fbe",
   "metadata": {},
   "source": [
    "## 7.0 Results & Analysis"
   ]
  },
  {
   "cell_type": "markdown",
   "id": "7de349f2-673d-43e6-9c47-81197f138a4b",
   "metadata": {},
   "source": [
    "#### 7.1 Summary\n",
    "- **Results** -\n",
    "  - Performance - We have achieved an 80% accuracy and 90% recall on the data.\n",
    "  - Recall vs Precission - Generally with churn data we want to prioritize recall. There is a small class imbalane so it is better to focus on AUC & recall.\n",
    "  - Data Quality Issues - Overall the results are good but there remains serious data quality issues\n",
    "  - Data Leakage - The biggest issue is the structure of the data is not good. We only know if a customer churned, and not specifically when they churned. This means there is likely model leakage in the data. When a customer churns they no longer will have sessions. This is the critical problem in the data\n",
    "  - Learning Curve - We need more data. It looks like testing accuracy is moving up to converge to training data, but b/c our samples are limited it is hard to know.\n",
    "- **Visualizations** - See below for learning curve, ROC/AUC, and precision/recall/accuracy histogram on K fold training\n",
    "- **Retraining** - We retrain model on top 10 features\n",
    "  - Other Models - Next to other models random forest is top performaner in recall with good precision too (see results) "
   ]
  },
  {
   "cell_type": "markdown",
   "id": "32830b44-f260-424a-8ad9-3f6a6aaac3f2",
   "metadata": {},
   "source": [
    "#### 7.2 Learning Curve"
   ]
  },
  {
   "cell_type": "code",
   "execution_count": 218,
   "id": "336cb1a2-b985-4e3e-a4dc-449ba7c64fc7",
   "metadata": {},
   "outputs": [
    {
     "data": {
      "image/png": "[encoded data removed]",
      "text/plain": [
       "<Figure size 500x300 with 1 Axes>"
      ]
     },
     "metadata": {},
     "output_type": "display_data"
    }
   ],
   "source": [
    "\n",
    "# Plot the learning curve\n",
    "train_sizes, train_scores, test_scores = learning_curve(\n",
    "    rf, X, y, cv=5, train_sizes=np.linspace(0.1, 1.0, 10), scoring='accuracy'\n",
    ")\n",
    "\n",
    "# Calculate the average training and testing scores\n",
    "avg_train_scores = np.mean(train_scores, axis=1)\n",
    "avg_test_scores = np.mean(test_scores, axis=1)\n",
    "\n",
    "# Plot the learning curve\n",
    "plt.figure(figsize=(5, 3))\n",
    "plt.plot(train_sizes, avg_train_scores, 'o-', color='r', label='Training Accuracy')\n",
    "plt.plot(train_sizes, avg_test_scores, 'o-', color='g', label='Testing Accuracy')\n",
    "plt.xlabel('Training Set Size')\n",
    "plt.ylabel('Accuracy')\n",
    "plt.title('Learning Curve')\n",
    "plt.legend()\n",
    "plt.show()\n",
    "\n",
    "# Make predictions on the testing data\n",
    "y_pred = rf.predict(X)\n",
    "\n",
    "# Get the probability estimates for each class\n",
    "class_probabilities = rf.predict_proba(X)"
   ]
  },
  {
   "cell_type": "markdown",
   "id": "95decec9-ff55-4f77-afff-8feac9fd7f13",
   "metadata": {},
   "source": [
    "#### 7.3 ROC/AUC Curve\n",
    "- True positive rate (AKA recall) climbs sharply. We choose a threshold in which we get about 90% recall at the elbow area to prevent significant increase in False Positive Rate\n",
    "- ROC under the curve is 88% which reflects good perfmance"
   ]
  },
  {
   "cell_type": "code",
   "execution_count": 219,
   "id": "18a5a332",
   "metadata": {},
   "outputs": [
    {
     "data": {
      "image/png": "[encoded data removed]",
      "text/plain": [
       "<Figure size 300x300 with 1 Axes>"
      ]
     },
     "metadata": {},
     "output_type": "display_data"
    }
   ],
   "source": [
    "# Make predictions on the testing data\n",
    "y_pred = rf.predict(X)\n",
    "\n",
    "# Get the probability estimates for each class\n",
    "class_probabilities = rf.predict_proba(X)\n",
    "y_prob = class_probabilities[:, 1]\n",
    "\n",
    "# Compute the false positive rate and true positive rate for the ROC curve\n",
    "fpr, tpr, thresholds = roc_curve(y, y_prob)\n",
    "roc_auc = auc(fpr, tpr)\n",
    "\n",
    "# Plot the ROC curve\n",
    "plt.figure(figsize=(3, 3))\n",
    "plt.plot(fpr, tpr, label='ROC curve (area = %0.2f)' % roc_auc)\n",
    "plt.plot([0, 1], [0, 1], 'k--')\n",
    "plt.xlim([0.0, 1.0])\n",
    "plt.ylim([0.0, 1.05])\n",
    "plt.xlabel('False Positive Rate')\n",
    "plt.ylabel('True Positive Rate')\n",
    "plt.title('Receiver Operating Characteristic')\n",
    "plt.legend(loc=\"lower right\")\n",
    "plt.show()"
   ]
  },
  {
   "cell_type": "markdown",
   "id": "c621a918-f0f2-40ad-afb8-88be1e8b29b9",
   "metadata": {},
   "source": [
    "#### 7.4 Rerun Model Final Features\n",
    "- We rerun the model with the select top 10 features with ~> 1% feature importance"
   ]
  },
  {
   "cell_type": "code",
   "execution_count": 220,
   "id": "e287514d-ea0b-4b23-84c6-f7c2d37a1159",
   "metadata": {},
   "outputs": [
    {
     "data": {
      "text/html": [
       "<div>\n",
       "<style scoped>\n",
       "    .dataframe tbody tr th:only-of-type {\n",
       "        vertical-align: middle;\n",
       "    }\n",
       "\n",
       "    .dataframe tbody tr th {\n",
       "        vertical-align: top;\n",
       "    }\n",
       "\n",
       "    .dataframe thead th {\n",
       "        text-align: right;\n",
       "    }\n",
       "</style>\n",
       "<table border=\"1\" class=\"dataframe\">\n",
       "  <thead>\n",
       "    <tr style=\"text-align: right;\">\n",
       "      <th></th>\n",
       "      <th>Feature</th>\n",
       "      <th>Importance</th>\n",
       "    </tr>\n",
       "  </thead>\n",
       "  <tbody>\n",
       "    <tr>\n",
       "      <th>38</th>\n",
       "      <td>duration_first_t...</td>\n",
       "      <td>0.459317</td>\n",
       "    </tr>\n",
       "    <tr>\n",
       "      <th>0</th>\n",
       "      <td>end_timestamp_mean</td>\n",
       "      <td>0.134531</td>\n",
       "    </tr>\n",
       "    <tr>\n",
       "      <th>37</th>\n",
       "      <td>price</td>\n",
       "      <td>0.094654</td>\n",
       "    </tr>\n",
       "    <tr>\n",
       "      <th>6</th>\n",
       "      <td>duration_seconds...</td>\n",
       "      <td>0.073103</td>\n",
       "    </tr>\n",
       "    <tr>\n",
       "      <th>1</th>\n",
       "      <td>end_timestamp_count</td>\n",
       "      <td>0.070923</td>\n",
       "    </tr>\n",
       "    <tr>\n",
       "      <th>7</th>\n",
       "      <td>mean_opinion_sco...</td>\n",
       "      <td>0.041352</td>\n",
       "    </tr>\n",
       "    <tr>\n",
       "      <th>22</th>\n",
       "      <td>mos_less_4_5_sum</td>\n",
       "      <td>0.026122</td>\n",
       "    </tr>\n",
       "    <tr>\n",
       "      <th>2</th>\n",
       "      <td>duration_seconds...</td>\n",
       "      <td>0.008322</td>\n",
       "    </tr>\n",
       "    <tr>\n",
       "      <th>21</th>\n",
       "      <td>duration_less_5_...</td>\n",
       "      <td>0.008166</td>\n",
       "    </tr>\n",
       "    <tr>\n",
       "      <th>12</th>\n",
       "      <td>start_hour_sin_mean</td>\n",
       "      <td>0.007258</td>\n",
       "    </tr>\n",
       "  </tbody>\n",
       "</table>\n",
       "</div>"
      ],
      "text/plain": [
       "                Feature  Importance\n",
       "38  duration_first_t...    0.459317\n",
       "0    end_timestamp_mean    0.134531\n",
       "37                price    0.094654\n",
       "6   duration_seconds...    0.073103\n",
       "1   end_timestamp_count    0.070923\n",
       "7   mean_opinion_sco...    0.041352\n",
       "22     mos_less_4_5_sum    0.026122\n",
       "2   duration_seconds...    0.008322\n",
       "21  duration_less_5_...    0.008166\n",
       "12  start_hour_sin_mean    0.007258"
      ]
     },
     "execution_count": 220,
     "metadata": {},
     "output_type": "execute_result"
    }
   ],
   "source": [
    "feature_importances[0:10]"
   ]
  },
  {
   "cell_type": "markdown",
   "id": "6f95c017-fae2-4d2f-8f57-4a62b45686e1",
   "metadata": {},
   "source": [
    "#### 7.5 Rerunning the models on only Top Features\n",
    "- Random forest gets great call and is top performer\n",
    "- Naive Bayes also does well but has lower precision.\n",
    "- This confirms that random forest is suitable model.\n",
    "- Favorable properties of Random Forest:\n",
    "  - Random forest is not significantly affected by outliers\n",
    "  - Random forest doesn't need data normalized\n",
    "  - Random forest doesn't have issues with collinearity\n",
    "  - Random foest automatically can split on categorical & continuous variables "
   ]
  },
  {
   "cell_type": "code",
   "execution_count": 221,
   "id": "44cabac5",
   "metadata": {},
   "outputs": [
    {
     "name": "stdout",
     "output_type": "stream",
     "text": [
      "0.807 Average Accuracy: Random Forest\n",
      "Confusion Matrix:\n",
      "[[421 166]\n",
      " [ 27 386]]\n",
      "Precision: 0.700\n",
      "Recall: 0.935\n",
      "\n",
      "0.788 Average Accuracy: XGBoost\n",
      "Confusion Matrix:\n",
      "[[451 136]\n",
      " [ 76 337]]\n",
      "Precision: 0.713\n",
      "Recall: 0.816\n",
      "\n",
      "0.783 Average Accuracy: Gradient Boost\n",
      "Confusion Matrix:\n",
      "[[431 156]\n",
      " [ 61 352]]\n",
      "Precision: 0.694\n",
      "Recall: 0.852\n",
      "\n",
      "0.755 Average Accuracy: Logistic Regression\n",
      "Confusion Matrix:\n",
      "[[395 192]\n",
      " [ 53 360]]\n",
      "Precision: 0.652\n",
      "Recall: 0.872\n",
      "\n",
      "0.752 Average Accuracy: SVM\n",
      "Confusion Matrix:\n",
      "[[373 214]\n",
      " [ 34 379]]\n",
      "Precision: 0.639\n",
      "Recall: 0.918\n",
      "\n",
      "0.724 Average Accuracy: Naive Bayes\n",
      "Confusion Matrix:\n",
      "[[334 253]\n",
      " [ 23 390]]\n",
      "Precision: 0.607\n",
      "Recall: 0.944\n",
      "\n"
     ]
    }
   ],
   "source": [
    "important_columns = list(feature_importances[0:10].Feature)\n",
    "X_2 = merged_df[important_columns]\n",
    "y_2 = merged_df['churned']\n",
    "run_classification(X_2, y_2,3)"
   ]
  },
  {
   "cell_type": "markdown",
   "id": "bdf3e17b-25c0-455f-80cb-f809f2be88a7",
   "metadata": {},
   "source": [
    "#### 7.6 Precision, Recall & Accuracy Scores\n",
    "- As discussed previously we are focused on high recall\n",
    "- Below is 100 iterations of random data to see distributions of resulting precision, recall and accuracy\n",
    "- We see significant variance which means we need more data"
   ]
  },
  {
   "cell_type": "code",
   "execution_count": 222,
   "id": "7b27c6bb",
   "metadata": {},
   "outputs": [
    {
     "name": "stdout",
     "output_type": "stream",
     "text": [
      "Average Accuracy: 0.801\n",
      "Average Precision: 0.696\n",
      "Average Recall: 0.927\n"
     ]
    },
    {
     "data": {
      "image/png": "[encoded data removed]",
      "text/plain": [
       "<Figure size 800x400 with 1 Axes>"
      ]
     },
     "metadata": {},
     "output_type": "display_data"
    }
   ],
   "source": [
    "\n",
    "def run_random_forest(X, y, split=0.2, iterations=100, split_data=True):\n",
    "    accuracy_scores = []\n",
    "    precision_scores = []\n",
    "    recall_scores = []\n",
    "\n",
    "    for i in range(iterations):\n",
    "        # Perform train-test split if specified\n",
    "        if split_data:\n",
    "            X_train, X_test, y_train, y_test = train_test_split(X, y, test_size=split, random_state=i)\n",
    "        else:\n",
    "            X_train, X_test, y_train, y_test = X, None, y, None\n",
    "\n",
    "        # Create and fit the Random Forest classifier\n",
    "        rf_classifier = RandomForestClassifier(\n",
    "            n_estimators = 100,\n",
    "            min_samples_split = 10, \n",
    "            min_samples_leaf = 5,\n",
    "            max_depth=5,\n",
    "            criterion=\"entropy\", \n",
    "            class_weight={False:1,True:2},\n",
    "            max_features=\"sqrt\"\n",
    "        )\n",
    "        rf_classifier.fit(X_train, y_train)\n",
    "\n",
    "        # Make predictions on the test set or entire dataset\n",
    "        if split_data:\n",
    "            y_pred = rf_classifier.predict(X_test)\n",
    "        else:\n",
    "            y_pred = rf_classifier.predict(X_train)\n",
    "\n",
    "        # Calculate metrics\n",
    "        accuracy = accuracy_score(y_test, y_pred) if split_data else accuracy_score(y_train, y_pred)\n",
    "        precision = precision_score(y_test, y_pred) if split_data else precision_score(y_train, y_pred)\n",
    "        recall = recall_score(y_test, y_pred) if split_data else recall_score(y_train, y_pred)\n",
    "\n",
    "        # Append scores to the lists\n",
    "        accuracy_scores.append(accuracy)\n",
    "        precision_scores.append(precision)\n",
    "        recall_scores.append(recall)\n",
    "\n",
    "    # Calculate average scores\n",
    "    avg_accuracy = np.mean(accuracy_scores)\n",
    "    avg_precision = np.mean(precision_scores)\n",
    "    avg_recall = np.mean(recall_scores)\n",
    "\n",
    "    # Print average scores\n",
    "    print(\"Average Accuracy:\", round(avg_accuracy, 3))\n",
    "    print(\"Average Precision:\", round(avg_precision, 3))\n",
    "    print(\"Average Recall:\", round(avg_recall, 3))\n",
    "\n",
    "    # Plot density distribution of scores\n",
    "    plt.figure(figsize=(8, 4))\n",
    "    plt.hist(accuracy_scores, bins=20, density=True, alpha=0.5, label='Accuracy')\n",
    "    plt.hist(precision_scores, bins=20, density=True, alpha=0.5, label='Precision')\n",
    "    plt.hist(recall_scores, bins=20, density=True, alpha=0.5, label='Recall')\n",
    "    plt.xlabel('Score')\n",
    "    plt.ylabel('Density')\n",
    "    plt.title('Random Forest Score Distribution 100 iterations')\n",
    "    plt.legend()\n",
    "    plt.tight_layout()\n",
    "    plt.show()\n",
    "\n",
    "# Example usage\n",
    "X_3 = merged_df[important_columns]\n",
    "y_3 = merged_df['churned']\n",
    "run_random_forest(X_3, y_3, split=0.2, iterations=100, split_data=True)"
   ]
  },
  {
   "cell_type": "markdown",
   "id": "e0a1edf0-7633-42d6-9503-47dd5577e3bd",
   "metadata": {},
   "source": [
    "## 8.0 Discussion & Conclusion"
   ]
  },
  {
   "cell_type": "markdown",
   "id": "15dc7fe5-466e-4586-9bc4-ae1850aa67c1",
   "metadata": {},
   "source": [
    "#### 8.1 Discussion of Learnings\n",
    "- Accuracy Measures - I learned a great deal about precision, recall, and accuracy. I didn't use F1 harmonic score but also considered using this\n",
    "- Oversampling - I learned a great deal about class imbalance. Although my use case didn't warrant any extreme measures, I considered over sampling the churned cases to increase recall\n",
    "- Recall - I remembers that TPR and sensitivity are synonyms for recall. I sometimes get confused by the difference terms coming from different disciplines (i.e. sensitivity in Public Health)\n",
    "- Model Leakage - Half way through this exercise I realized that model leakeage was a major issue. This is something to be very careful for"
   ]
  },
  {
   "cell_type": "markdown",
   "id": "6d80a3eb-f055-40d3-9810-55c73e3d76a7",
   "metadata": {},
   "source": [
    "#### 8.2 Things that Didn't Work\n",
    "- Too few features - I only had 4 or so workable features. I was able to expand these features in my feature engineering but ultimately need many more features on users and session data\n",
    "- Model Leakage - As mentioned above model leakeage is a major issue\n",
    "- Target Variable - If the target variable had a date associated with it would help with analysis, and do advanced time series methods"
   ]
  },
  {
   "cell_type": "markdown",
   "id": "6a2cfefc-0839-4d80-b773-8386eb8f8bc7",
   "metadata": {},
   "source": [
    "#### 8.3 Ways to Improve"
   ]
  },
  {
   "cell_type": "markdown",
   "id": "f6f32444-9df3-4ecd-9bd5-c29d5d206673",
   "metadata": {},
   "source": [
    "- Keep doing ML - Everytime I train something I learn something new\n",
    "- Initial Sanity Check - Before doing significant analysis I think it is very important to ensure the data makes sense, and it is worht investing time to do a model. Otherwise we do a lot of work and realize later that we are missing key components.\n",
    "- Not Using Random Forest - I am tempted by random forest b/c its a very easy model. I think results could improve by using SVM or boosted methods, but these require more careful attention to overfitting"
   ]
  },
  {
   "cell_type": "code",
   "execution_count": null,
   "id": "0b80d47f-d07d-4ce2-8a24-22f8fe36db80",
   "metadata": {},
   "outputs": [],
   "source": []
  }
 ],
 "metadata": {
  "kernelspec": {
   "display_name": "Python 3 (ipykernel)",
   "language": "python",
   "name": "python3"
  },
  "language_info": {
   "codemirror_mode": {
    "name": "ipython",
    "version": 3
   },
   "file_extension": ".py",
   "mimetype": "text/x-python",
   "name": "python",
   "nbconvert_exporter": "python",
   "pygments_lexer": "ipython3",
   "version": "3.12.2"
  }
 },
 "nbformat": 4,
 "nbformat_minor": 5
}
